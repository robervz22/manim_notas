{
 "cells": [
  {
   "cell_type": "markdown",
   "metadata": {},
   "source": [
    "# Introducción a Manim"
   ]
  },
  {
   "cell_type": "markdown",
   "metadata": {},
   "source": [
    "## Instalación"
   ]
  },
  {
   "cell_type": "markdown",
   "metadata": {},
   "source": [
    "En las siguientes secciones, mostramos el set up necesario para manejar el framework `Manim`"
   ]
  },
  {
   "cell_type": "markdown",
   "metadata": {},
   "source": [
    "### Usando `conda`\n",
    "\n",
    "Se utilizará el manejador de paquetes y ambientes de trabajo `conda`.\n",
    "\n",
    "- `conda` versión `23.7.2`\n",
    "- `Python 3.12.7` \n",
    "\n",
    "Los comando para crear el ambiente de nombre `manim-env` y la correspondiente instalación de `manim` en dicho ambiente son los siguientes:"
   ]
  },
  {
   "cell_type": "code",
   "execution_count": 2,
   "metadata": {},
   "outputs": [],
   "source": [
    "%%bash\n",
    "#conda create -n manim-env\n",
    "#conda activate manim-env\n",
    "#conda install -c conda-forge manim"
   ]
  },
  {
   "cell_type": "markdown",
   "metadata": {},
   "source": [
    "Mostramos algunos detalles del ambiente creado. Exportamos dicha información en un archivo `YAML`."
   ]
  },
  {
   "cell_type": "code",
   "execution_count": null,
   "metadata": {},
   "outputs": [],
   "source": [
    "%%bash\n",
    "#conda env export -n manim-env > manim-env.yml"
   ]
  },
  {
   "cell_type": "markdown",
   "metadata": {},
   "source": [
    "La version instalada de `Manim` es:"
   ]
  },
  {
   "cell_type": "code",
   "execution_count": 8,
   "metadata": {},
   "outputs": [
    {
     "name": "stdout",
     "output_type": "stream",
     "text": [
      "Manim Community \u001b[32mv0.\u001b[0m\u001b[32m18.1\u001b[0m\n",
      "\n"
     ]
    }
   ],
   "source": [
    "%%bash\n",
    "manim --version"
   ]
  },
  {
   "cell_type": "markdown",
   "metadata": {},
   "source": [
    "### Dependencias\n",
    "\n",
    "Para poder usar la interface de `Manim` se necesita una distribución de LaTeX en el entorno de trabajo para el manejo de ecuaciones. \n",
    "\n",
    "La distribución de LaTeX dependerá del sistema operativo (SO) utilizado. A continuación se muestra un ejemplo de como obtener dicha información desde `bash`:"
   ]
  },
  {
   "cell_type": "code",
   "execution_count": 5,
   "metadata": {},
   "outputs": [
    {
     "name": "stdout",
     "output_type": "stream",
     "text": [
      "NAME=\"Pop!_OS\"\n",
      "VERSION=\"22.04 LTS\"\n",
      "ID=pop\n",
      "ID_LIKE=\"ubuntu debian\"\n",
      "PRETTY_NAME=\"Pop!_OS 22.04 LTS\"\n",
      "VERSION_ID=\"22.04\"\n",
      "HOME_URL=\"https://pop.system76.com\"\n",
      "SUPPORT_URL=\"https://support.system76.com\"\n",
      "BUG_REPORT_URL=\"https://github.com/pop-os/pop/issues\"\n",
      "PRIVACY_POLICY_URL=\"https://system76.com/privacy\"\n",
      "VERSION_CODENAME=jammy\n",
      "UBUNTU_CODENAME=jammy\n",
      "LOGO=distributor-logo-pop-os\n"
     ]
    }
   ],
   "source": [
    "%%bash\n",
    "cat /etc/os-release"
   ]
  },
  {
   "cell_type": "markdown",
   "metadata": {},
   "source": [
    "Dependiendo del sistema operativo (SO) se instala la distribución de LaTeX más adecuada. En este caso se tiene una distribución basada en Debian. Se muestra entonces el comando correspondiente para instalar la distribución de `LaTeX` sugerida en la documentación de `Manim` que para sistemas Debian es `TeX Live`\n",
    "\n"
   ]
  },
  {
   "cell_type": "code",
   "execution_count": 6,
   "metadata": {},
   "outputs": [],
   "source": [
    "%%bash\n",
    "#sudo apt install texlive texlive-latex-extra"
   ]
  }
 ],
 "metadata": {
  "kernelspec": {
   "display_name": "manim-env",
   "language": "python",
   "name": "python3"
  },
  "language_info": {
   "codemirror_mode": {
    "name": "ipython",
    "version": 3
   },
   "file_extension": ".py",
   "mimetype": "text/x-python",
   "name": "python",
   "nbconvert_exporter": "python",
   "pygments_lexer": "ipython3",
   "version": "3.12.7"
  }
 },
 "nbformat": 4,
 "nbformat_minor": 2
}
