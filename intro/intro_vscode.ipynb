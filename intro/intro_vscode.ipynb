{
 "cells": [
  {
   "cell_type": "markdown",
   "metadata": {},
   "source": [
    "# Configuración del ambiente de trabajo"
   ]
  },
  {
   "cell_type": "markdown",
   "metadata": {},
   "source": [
    "<p style=\"text-align: center;\">\n",
    "Fecha: 28 de Enero de 2025\n",
    "</p>"
   ]
  },
  {
   "cell_type": "markdown",
   "metadata": {},
   "source": [
    "## Instalación de vs code"
   ]
  },
  {
   "cell_type": "markdown",
   "metadata": {},
   "source": [
    "### Linux"
   ]
  },
  {
   "cell_type": "markdown",
   "metadata": {},
   "source": [
    "Para sistemas basados en Debian-Ubuntu (este es el caso para la mayoría de los usuarios Linux) los pasos son los siguientes \n",
    "\n",
    "1. Descargar el archivo `.deb` de la página oficial de `vs code`: \n",
    "\n",
    "<p style=\"text-align: center;\">\n",
    "<a href=\"https://code.visualstudio.com/Download\" style=\"text-align: center;\">https://code.visualstudio.com/Download\n",
    "</a>\n",
    "</p>\n",
    "\n",
    "El archivo que se obtiene a la fecha de este notebook es: `code_1.96.4-1736991114_amd64.deb`\n",
    "\n",
    "2. Dirigirse en al directorio donde se encuentr el archivo descargado y ejecutar la siguiente línea de código en `bash`. Se sobreescribe el nombre del archivo and `<file>` por `code_1.96.4-1736991114_amd64.deb`."
   ]
  },
  {
   "cell_type": "code",
   "execution_count": null,
   "metadata": {},
   "outputs": [],
   "source": [
    "%%bash\n",
    "#sudo apt install ./<file>.deb\n",
    "#sudo apt install ./code_1.96.4-1736991114_amd64.deb "
   ]
  },
  {
   "cell_type": "markdown",
   "metadata": {},
   "source": [
    "### Windows"
   ]
  },
  {
   "cell_type": "markdown",
   "metadata": {},
   "source": [
    "Para sistemas Windows 10/11 los pasos son los siguientes:\n",
    "1. Descargar el archivo `.exe` de la página oficial de vs code:\n",
    "<p style=\"text-align: center;\">\n",
    "<a href=\"https://code.visualstudio.com/Download\" style=\"text-align: center;\">https://code.visualstudio.com/Download\n",
    "</a>\n",
    "</p>\n",
    "\n",
    "El archivo que se obtiene a la fecha: `VSCodeUserSetup-x64-1.96.4.exe`.\n",
    "\n",
    "2. Abrir el archivo y seguir las instrucciones. El directorio por default donde se guardan los ejecutables de `vs code` es `C:\\Users\\{Username}\\AppData\\Local\\Programs\\Microsoft VS Code`.\n",
    "\n",
    "3. Para que el sistema operativo detecte la instalación de `vs code` se debe agregar el directorio anterior a las *variables de entorno* del sistema donde se actualiza el `%PATH%`."
   ]
  },
  {
   "cell_type": "markdown",
   "metadata": {},
   "source": [
    "## Instalación de Anaconda"
   ]
  },
  {
   "cell_type": "markdown",
   "metadata": {},
   "source": [
    "Para el uso de `Manim` es conveniente usar el manejador de paquetes `conda` en su versión más completa **Anaconda**, esto para futuros problemas con las dependencias que necesita el framework. "
   ]
  },
  {
   "cell_type": "markdown",
   "metadata": {},
   "source": [
    "### Linux"
   ]
  },
  {
   "cell_type": "markdown",
   "metadata": {},
   "source": [
    "Para sistemas basados en Debia-Ubuntu los pasos son los siguientes:\n",
    "1. Descargar el instalador correspondiente a estos sistemas operativos \n",
    "<p style=\"text-align: center;\">\n",
    "<a href=\"https://www.anaconda.com/download/\" style=\"text-align: center;\">https://www.anaconda.com/download/\n",
    "</a>\n",
    "</p>\n",
    "\n",
    "Esta página requiere ingresar un email, a ese email llegará un correo con las instrucciones posteriores donde se podrá descargar el instalador de Anaconda. El instalador de Anaconda que se debe obtener un archivo con el nombre: `Anaconda3-2024.10-1-Linux-x86_64.sh`, un shell script. \n",
    "\n",
    "2. Posicionarse en el directorio donde está el shell script anterior y ejecutar la siguiente linea de código en `bash`"
   ]
  },
  {
   "cell_type": "code",
   "execution_count": 1,
   "metadata": {},
   "outputs": [],
   "source": [
    "%%bash\n",
    "#./<conda-installer-name>-latest-Linux-x86_64.sh\n",
    "#./Anaconda3-2024.10-1-Linux-x86_64.sh"
   ]
  },
  {
   "cell_type": "markdown",
   "metadata": {},
   "source": [
    "### Windows"
   ]
  },
  {
   "cell_type": "markdown",
   "metadata": {},
   "source": [
    "Para sistemas Windows 10/11 los pasos son los siguientes:\n",
    "1. Descargar el achivo `.exe` o asistente de instalación en la página:\n",
    "<p style=\"text-align: center;\">\n",
    "<a href=\"https://www.anaconda.com/download/\" style=\"text-align: center;\">https://www.anaconda.com/download/\n",
    "</a>\n",
    "</p>\n",
    "\n",
    "2. Se obtiene un archivo como `Anaconda3-2024.10-1-Windows-x86_64.exe`. Seguir las recomendaciones del asistente de instalación. \n",
    "\n",
    "3. Añadir el directorio donde se instaló Anaconda3 a la variables de entorno o `%PATH%`."
   ]
  },
  {
   "cell_type": "markdown",
   "metadata": {},
   "source": [
    "## Configuración de vs code y Anaconda"
   ]
  },
  {
   "cell_type": "markdown",
   "metadata": {},
   "source": [
    "Para la integración de ambos ambientes basta agregar las extensiones de `vs code`:\n",
    "- Python\n",
    "- Jupyter Notebook\n",
    "\n",
    "A continuación mostramos imágenes de como lucen estas extensiones"
   ]
  },
  {
   "cell_type": "markdown",
   "metadata": {},
   "source": [
    " <img src=\"python_ext.png\" alt=\"Python vs code extension\">"
   ]
  },
  {
   "cell_type": "markdown",
   "metadata": {},
   "source": [
    " <img src=\"jupyter_ext.png\" alt=\"Python vs code extension\">"
   ]
  }
 ],
 "metadata": {
  "kernelspec": {
   "display_name": "manim-env",
   "language": "python",
   "name": "python3"
  },
  "language_info": {
   "codemirror_mode": {
    "name": "ipython",
    "version": 3
   },
   "file_extension": ".py",
   "mimetype": "text/x-python",
   "name": "python",
   "nbconvert_exporter": "python",
   "pygments_lexer": "ipython3",
   "version": "3.12.7"
  }
 },
 "nbformat": 4,
 "nbformat_minor": 2
}
