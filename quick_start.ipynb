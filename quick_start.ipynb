{
 "cells": [
  {
   "cell_type": "markdown",
   "metadata": {},
   "source": [
    "# Elementos básicos de Manim"
   ]
  },
  {
   "cell_type": "markdown",
   "metadata": {},
   "source": [
    "## Mobjects"
   ]
  },
  {
   "cell_type": "markdown",
   "metadata": {},
   "source": [
    "Este es un objeto que se puede mostrar en la pantalla, por ejemplo:\n",
    "- Básicos: `Circle`, `Arrow`, `Rectangle`\n",
    "- Avanzados: `Axes`,`FunctionGraph`, `BarChart`.\n",
    "\n",
    "Esta es una clase abstracta. El esquelo de lo que se puede mostrar. Una clase derivada es `VMobject`."
   ]
  },
  {
   "cell_type": "code",
   "execution_count": 1,
   "metadata": {},
   "outputs": [],
   "source": [
    "from manim import *\n",
    "\n",
    "class CreatingMobjects(Scene):\n",
    "    def construct(self):\n",
    "        circle = Circle()\n",
    "        self.add(circle)\n",
    "        self.wait(1)\n",
    "        self.remove(circle)\n",
    "        self.wait(1)"
   ]
  },
  {
   "cell_type": "markdown",
   "metadata": {},
   "source": [
    "> **Nota:** Todo el código en un script de `Manim` debe estar en el método `construct` de la clase `Scene`."
   ]
  },
  {
   "cell_type": "markdown",
   "metadata": {},
   "source": [
    "Para crear una escena, el código anterior debe estar contenido en un script `.py`, por ejemplo, `scene.py` y se debe ejecutar como se muestra en la siguiente celda:"
   ]
  },
  {
   "cell_type": "code",
   "execution_count": null,
   "metadata": {},
   "outputs": [],
   "source": [
    "%%bash\n",
    "manim -pql scence.py CreatingMobjects"
   ]
  },
  {
   "cell_type": "markdown",
   "metadata": {},
   "source": [
    "Algunos flags en la linea de comandos son los siguientes. \n",
    "- `-ql` o `-qh`: Baja calidad (480p15) o alta calidad (1080p60)\n",
    "- `-s`: Guardar el último frame. \n",
    "- `-p` y `-f`: Play y Abrir archivo, resp. \n",
    "- `-a`: Si el archivo tiene múltiples escenas y se quieren renderizar todas. \n",
    "- `--format gif`"
   ]
  },
  {
   "cell_type": "markdown",
   "metadata": {},
   "source": [
    "# Secciones"
   ]
  },
  {
   "cell_type": "markdown",
   "metadata": {},
   "source": [
    "Utilizar secciones resulta útil para generar diferentes "
   ]
  },
  {
   "cell_type": "code",
   "execution_count": null,
   "metadata": {},
   "outputs": [],
   "source": [
    "class CircleSquare:\n",
    "    def construct(self):\n",
    "        self.next_section(\"Circulo\")\n",
    "        circle = Circle().set_fill(PINK, opacity=0.5)\n",
    "        self.add(circle)\n",
    "        self.play(FadeOut(circle))  # fade out animation\n",
    "\n",
    "\n",
    "        # now we wait 1sec and have an animation to satisfy the section\n",
    "        self.wait(2)\n",
    "        self.next_section(\"Cuadrado\")\n",
    "        square = Square().set_fill(BLUE, opacity=0.5)\n",
    "        self.add(square)\n",
    "        self.play(FadeOut(square))  # fade out animation"
   ]
  },
  {
   "cell_type": "markdown",
   "metadata": {},
   "source": [
    "El comando para guardar cada sección como video es:"
   ]
  },
  {
   "cell_type": "code",
   "execution_count": null,
   "metadata": {},
   "outputs": [],
   "source": [
    "%%bash\n",
    "manim --save_sections scene.py"
   ]
  }
 ],
 "metadata": {
  "kernelspec": {
   "display_name": "manim-env",
   "language": "python",
   "name": "python3"
  },
  "language_info": {
   "codemirror_mode": {
    "name": "ipython",
    "version": 3
   },
   "file_extension": ".py",
   "mimetype": "text/x-python",
   "name": "python",
   "nbconvert_exporter": "python",
   "pygments_lexer": "ipython3",
   "version": "3.12.7"
  }
 },
 "nbformat": 4,
 "nbformat_minor": 2
}
